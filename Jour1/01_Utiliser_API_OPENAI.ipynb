{
 "cells": [
  {
   "cell_type": "code",
   "execution_count": null,
   "id": "5e3afd70-aaf2-448e-8516-14e5f6f900b5",
   "metadata": {},
   "outputs": [],
   "source": [
    "api_key = \"mettez-votre-cle-api-ici\"\n",
    "api_key"
   ]
  },
  {
   "cell_type": "markdown",
   "id": "94397728-127b-4061-baac-eec3aeedd594",
   "metadata": {},
   "source": [
    "# Appel Api avec OpenAI"
   ]
  },
  {
   "cell_type": "code",
   "execution_count": null,
   "id": "717291fa-3c8a-451c-beca-5e822ed85769",
   "metadata": {},
   "outputs": [],
   "source": [
    "!pip install openai"
   ]
  },
  {
   "cell_type": "code",
   "execution_count": null,
   "id": "8e2595f5-2b6c-47ca-af6a-989ba19f7a22",
   "metadata": {},
   "outputs": [],
   "source": [
    "from openai import OpenAI"
   ]
  },
  {
   "cell_type": "code",
   "execution_count": null,
   "id": "b04da95c-024c-40bf-bb89-9875af154b12",
   "metadata": {},
   "outputs": [],
   "source": [
    "client =OpenAI(api_key=api_key)"
   ]
  },
  {
   "cell_type": "code",
   "execution_count": null,
   "id": "c4a7eaba-b9a4-487e-a8c0-140a69e2995b",
   "metadata": {},
   "outputs": [],
   "source": [
    "prompt = \"Quel est le sentiment de la phrase : Je suis heureuse\"\n",
    "\n",
    "# Faire un appel API\n",
    "\n",
    "resp = client.chat.completions.create(\n",
    "    model=\"gpt-4o\",\n",
    "    messages=[\n",
    "        {\"role\": \"system\", \"content\": \"Tu es un assistant expert en IA.\"},\n",
    "        {\"role\": \"user\", \"content\": prompt}\n",
    "    ]\n",
    ")\n",
    "\n",
    "# Afficher la réponse\n",
    "print(resp.choices[0].message.content)\n"
   ]
  },
  {
   "cell_type": "code",
   "execution_count": null,
   "id": "cf2691b1-38f6-4dad-9e7a-34ff908e27c0",
   "metadata": {},
   "outputs": [],
   "source": [
    "!pip install ollama"
   ]
  },
  {
   "cell_type": "code",
   "execution_count": null,
   "id": "9869ca74-7279-4b15-afbd-b0e528381d73",
   "metadata": {},
   "outputs": [],
   "source": [
    "import ollama"
   ]
  },
  {
   "cell_type": "code",
   "execution_count": null,
   "id": "918e1bd0-d66c-402f-ae32-6bac6598239e",
   "metadata": {},
   "outputs": [],
   "source": [
    "!ollama list"
   ]
  },
  {
   "cell_type": "code",
   "execution_count": null,
   "id": "c595c2c5-655d-4a76-baab-4b6c6b132445",
   "metadata": {},
   "outputs": [],
   "source": [
    "prompt = \"Qu'est ce qu'un transformer en LLM?\"\n",
    "resp = ollama.chat(\n",
    "    model=\"deepseek-r1:8b\",  # ou tout autre modèle installé dans Ollama\n",
    "    messages=[\n",
    "        {\"role\": \"system\", \"content\": \"Tu es un assistant expert en IA.\"},\n",
    "        {\"role\": \"user\", \"content\": prompt}\n",
    "    ]\n",
    ")"
   ]
  },
  {
   "cell_type": "code",
   "execution_count": null,
   "id": "a043ff86-c2ef-4c2f-8746-0d7ca24c1564",
   "metadata": {},
   "outputs": [],
   "source": [
    "print(resp[\"message\"][\"content\"])"
   ]
  },
  {
   "cell_type": "markdown",
   "id": "66702024-8933-4bba-9562-909957c98de5",
   "metadata": {},
   "source": [
    "## Exercice pratique\n",
    "1. Choisissez **un** autre modèle (A: OpenAI, B: Ollama).\n",
    "2. Installez/chargez les bibliothèques nécessaires.\n",
    "3. Écrivez un script qui demande :\n",
    "   > *\"Donne-moi 3 idées de projets IA simples pour un débutant (une phrase par idée).\"*\n",
    "4. **Bonus :** Ajoutez des **contraintes de format** (liste numérotée) \n"
   ]
  },
  {
   "cell_type": "code",
   "execution_count": null,
   "id": "4f3883e3-6ff4-4714-80fa-f4068ca9312c",
   "metadata": {},
   "outputs": [],
   "source": [
    "!ollama list"
   ]
  }
 ],
 "metadata": {
  "kernelspec": {
   "display_name": "Python (Prompt)",
   "language": "python",
   "name": "prompt"
  },
  "language_info": {
   "codemirror_mode": {
    "name": "ipython",
    "version": 3
   },
   "file_extension": ".py",
   "mimetype": "text/x-python",
   "name": "python",
   "nbconvert_exporter": "python",
   "pygments_lexer": "ipython3",
   "version": "3.13.5"
  }
 },
 "nbformat": 4,
 "nbformat_minor": 5
}
